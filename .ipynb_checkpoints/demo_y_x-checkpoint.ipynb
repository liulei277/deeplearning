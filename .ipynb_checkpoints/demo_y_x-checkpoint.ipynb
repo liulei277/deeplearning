{
 "cells": [
  {
   "cell_type": "code",
   "execution_count": 1,
   "id": "3eb076c1",
   "metadata": {},
   "outputs": [],
   "source": [
    "from mindspore import nn, ops, Tensor, jit_class, set_context, set_seed\n",
    "import mindspore as ms\n",
    "import numpy as np\n",
    "\n",
    "set_seed(123456)"
   ]
  },
  {
   "cell_type": "code",
   "execution_count": 2,
   "id": "c15a609a",
   "metadata": {},
   "outputs": [],
   "source": [
    "set_context(mode=ms.PYNATIVE_MODE, device_target=\"GPU\")"
   ]
  },
  {
   "cell_type": "code",
   "execution_count": 3,
   "id": "607e9dc0",
   "metadata": {},
   "outputs": [
    {
     "data": {
      "text/plain": [
       "Network<\n",
       "  (fcout): Dense<input_channels=1, output_channels=1, has_bias=True>\n",
       "  >"
      ]
     },
     "execution_count": 3,
     "metadata": {},
     "output_type": "execute_result"
    }
   ],
   "source": [
    "from mindspore.common.initializer import Normal\n",
    "class Network(nn.Cell):\n",
    "    def __init__(self):\n",
    "        super().__init__()\n",
    "        # self.fc1 = nn.Dense(1, 20, Normal())\n",
    "        # self.fc2 = nn.Dense(20, 20, Normal())\n",
    "        # self.fc3 = nn.Dense(20, 20, Normal())\n",
    "        self.fcout = nn.Dense(1, 1, weight_init=Normal(0.02), bias_init=Normal(0.02))\n",
    "        # self.act = ops.Tanh()\n",
    "\n",
    "    def construct(self, x):\n",
    "        # x = self.act(self.fc1(x))\n",
    "        # x = self.act(self.fc2(x))\n",
    "        # x = self.act(self.fc3(x))\n",
    "        x = self.fcout(x)\n",
    "\n",
    "        return x\n",
    "\n",
    "model = Network()\n",
    "model"
   ]
  },
  {
   "cell_type": "code",
   "execution_count": 4,
   "id": "0ac80778",
   "metadata": {},
   "outputs": [
    {
     "name": "stdout",
     "output_type": "stream",
     "text": [
      "<mindspore.dataset.engine.datasets_user_defined.GeneratorDataset object at 0x7fd1f9633d90>\n"
     ]
    }
   ],
   "source": [
    "class MyIterable:\n",
    "    def __init__(self):\n",
    "        samples = 2**17\n",
    "        self._index = 0\n",
    "        self._data = np.random.uniform(size=(samples, 1)).astype(np.float32)\n",
    "        self._label = self._data\n",
    "        \n",
    "        \n",
    "        \n",
    "    def __next__(self):\n",
    "        if self._index >= len(self._data):\n",
    "            raise StopIteration\n",
    "        else:\n",
    "            item = (self._data[self._index], self._label[self._index])\n",
    "            self._index += 1\n",
    "            return item\n",
    "        \n",
    "    def __iter__(self):\n",
    "        self._index = 0\n",
    "        return self\n",
    "    \n",
    "    def __len__(self):\n",
    "        return len(self._data)\n",
    "    \n",
    "dataset = ms.dataset.GeneratorDataset(source=MyIterable(), column_names=[\"data\", \"label\"])\n",
    "print(dataset)"
   ]
  },
  {
   "cell_type": "code",
   "execution_count": 5,
   "id": "7e647021",
   "metadata": {},
   "outputs": [
    {
     "data": {
      "image/png": "[encoded data removed]",
      "text/plain": [
       "<Figure size 640x480 with 1 Axes>"
      ]
     },
     "metadata": {},
     "output_type": "display_data"
    }
   ],
   "source": [
    "from matplotlib import pyplot as plt\n",
    "test_data = np.random.uniform(size=(2**17, 1)).astype(np.float32)\n",
    "test_label = test_data\n",
    "plt.scatter(test_data, test_label, s=1)\n",
    "plt.show()"
   ]
  },
  {
   "cell_type": "code",
   "execution_count": 6,
   "id": "cd6685d7",
   "metadata": {},
   "outputs": [],
   "source": [
    "optimizer = nn.SGD(model.trainable_params(), learning_rate=5e-3)\n",
    "loss_fn = nn.MSELoss()"
   ]
  },
  {
   "cell_type": "code",
   "execution_count": 7,
   "id": "786370e1",
   "metadata": {},
   "outputs": [],
   "source": [
    "dataset = dataset.batch(batch_size=2**5)"
   ]
  },
  {
   "cell_type": "code",
   "execution_count": 8,
   "id": "4072172b",
   "metadata": {},
   "outputs": [],
   "source": [
    "def train_loop(model, dataset, loss_fn, optimizer):\n",
    "    def forwad_fn(data, label):\n",
    "        logits = model(data)\n",
    "        loss = loss_fn(logits, label)\n",
    "        return loss, logits\n",
    "    \n",
    "    grad_fn = ops.value_and_grad(forwad_fn, None, optimizer.parameters, has_aux=False)\n",
    "    \n",
    "    def train_step(data, label):\n",
    "        (loss, _), grads = grad_fn(data, label)\n",
    "        loss = ops.depend(loss, optimizer(grads))\n",
    "        return loss\n",
    "    \n",
    "    size = dataset.get_dataset_size()\n",
    "    print(size)\n",
    "    model.set_train()\n",
    "    for batch, (data, label) in enumerate(dataset.create_tuple_iterator()):\n",
    "        # print(data.shape, \"  \", label.shape)\n",
    "        loss = train_step(data, label)\n",
    "\n",
    "        if batch % 100 == 0:\n",
    "            loss, current = loss.asnumpy(), batch\n",
    "            print(f\"loss: {loss:>7f}  [{current:>3d}/{size:>3d}]\")\n",
    "        "
   ]
  },
  {
   "cell_type": "code",
   "execution_count": null,
   "id": "9d92524b",
   "metadata": {},
   "outputs": [
    {
     "name": "stdout",
     "output_type": "stream",
     "text": [
      "4096\n",
      "loss: 0.308074  [  0/4096]\n",
      "loss: 138.317413  [100/4096]\n",
      "loss: 211.150330  [200/4096]\n",
      "loss: 236.066711  [300/4096]\n",
      "loss: 252.858063  [400/4096]\n",
      "loss: 265.186523  [500/4096]\n",
      "loss: 233.736023  [600/4096]\n",
      "loss: 249.845459  [700/4096]\n",
      "loss: 252.542023  [800/4096]\n",
      "loss: 244.304337  [900/4096]\n",
      "loss: 254.348480  [1000/4096]\n",
      "loss: 259.595276  [1100/4096]\n",
      "loss: 252.037079  [1200/4096]\n",
      "loss: 261.418427  [1300/4096]\n",
      "loss: 255.657440  [1400/4096]\n",
      "loss: 254.334686  [1500/4096]\n",
      "loss: 252.333969  [1600/4096]\n",
      "loss: 258.461334  [1700/4096]\n",
      "loss: 254.276657  [1800/4096]\n",
      "loss: 254.422592  [1900/4096]\n",
      "loss: 250.880157  [2000/4096]\n",
      "loss: 250.596588  [2100/4096]\n",
      "loss: 253.785583  [2200/4096]\n",
      "loss: 250.843857  [2300/4096]\n",
      "loss: 252.010468  [2400/4096]\n",
      "loss: 252.708771  [2500/4096]\n"
     ]
    }
   ],
   "source": [
    "train_loop(model, dataset, loss_fn, optimizer)"
   ]
  }
 ],
 "metadata": {
  "kernelspec": {
   "display_name": "Python 3 (ipykernel)",
   "language": "python",
   "name": "python3"
  },
  "language_info": {
   "codemirror_mode": {
    "name": "ipython",
    "version": 3
   },
   "file_extension": ".py",
   "mimetype": "text/x-python",
   "name": "python",
   "nbconvert_exporter": "python",
   "pygments_lexer": "ipython3",
   "version": "3.9.0"
  }
 },
 "nbformat": 4,
 "nbformat_minor": 5
}
