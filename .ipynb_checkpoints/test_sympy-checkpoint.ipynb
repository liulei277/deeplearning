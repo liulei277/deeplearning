{
 "cells": [
  {
   "cell_type": "code",
   "execution_count": 1,
   "id": "32cf5153",
   "metadata": {},
   "outputs": [],
   "source": [
    "import mindspore as ms\n",
    "from mindspore import Tensor, set_context, nn, jit_class, ops"
   ]
  },
  {
   "cell_type": "code",
   "execution_count": 2,
   "id": "3f7ed866",
   "metadata": {},
   "outputs": [],
   "source": [
    "set_context(mode=ms.PYNATIVE_MODE, device_target=\"GPU\")"
   ]
  },
  {
   "cell_type": "code",
   "execution_count": 3,
   "id": "11d6b1df",
   "metadata": {},
   "outputs": [
    {
     "data": {
      "text/plain": [
       "-1.0"
      ]
     },
     "execution_count": 3,
     "metadata": {},
     "output_type": "execute_result"
    }
   ],
   "source": [
    "import sympy\n",
    "import numpy as np\n",
    "from sympy.utilities.lambdify import lambdify\n",
    "\n",
    "t = sympy.Symbol(\"t\")\n",
    "z = sympy.cos(t)\n",
    "m = lambdify(t, z)\n",
    "# sympy.diff(m, t)\n",
    "m(np.pi)\n"
   ]
  },
  {
   "cell_type": "code",
   "execution_count": 5,
   "id": "85cd688e",
   "metadata": {},
   "outputs": [
    {
     "name": "stdout",
     "output_type": "stream",
     "text": [
      "[Tensor(shape=[], dtype=Float32, value= -1)\n",
      " Tensor(shape=[], dtype=Float32, value= -4.37114e-08)\n",
      " Tensor(shape=[], dtype=Float32, value= 1)]\n",
      "1.5707963267948966\n",
      "6.123233995736766e-17\n",
      "[-1.000000e+00 -4.371139e-08  1.000000e+00]\n"
     ]
    }
   ],
   "source": [
    "@jit_class\n",
    "class Test():\n",
    "    def __init__(self):\n",
    "        super().__init__()\n",
    "        \n",
    "    def compute(self, x):\n",
    "        ret = self.func(x)\n",
    "        return ret\n",
    "        \n",
    "    # @ms.jit\n",
    "    def func(self, x):\n",
    "        t = sympy.Symbol(\"t\")\n",
    "        z = sympy.cos(t)\n",
    "        m = lambdify(t, z)\n",
    "        # sympy.diff(m, t)\n",
    "        ans = m(x)\n",
    "        return ans\n",
    "test_sym = Test()\n",
    "X = Tensor(np.array([np.pi, np.pi/2, 0.0]).astype(np.float32), ms.float32)\n",
    "sym_ans = test_sym.compute(X)\n",
    "\n",
    "print(sym_ans)\n",
    "print(np.pi/2)\n",
    "print(np.cos(np.pi/2))\n",
    "print(ops.cos(X))"
   ]
  },
  {
   "cell_type": "code",
   "execution_count": null,
   "id": "b0af017d",
   "metadata": {
    "scrolled": true
   },
   "outputs": [],
   "source": []
  }
 ],
 "metadata": {
  "kernelspec": {
   "display_name": "Python 3 (ipykernel)",
   "language": "python",
   "name": "python3"
  },
  "language_info": {
   "codemirror_mode": {
    "name": "ipython",
    "version": 3
   },
   "file_extension": ".py",
   "mimetype": "text/x-python",
   "name": "python",
   "nbconvert_exporter": "python",
   "pygments_lexer": "ipython3",
   "version": "3.9.0"
  }
 },
 "nbformat": 4,
 "nbformat_minor": 5
}
