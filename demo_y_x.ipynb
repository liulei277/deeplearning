{
 "cells": [
  {
   "cell_type": "code",
   "execution_count": 1,
   "id": "3eb076c1",
   "metadata": {},
   "outputs": [],
   "source": [
    "from mindspore import nn, ops, Tensor, jit_class, set_context, set_seed\n",
    "import mindspore as ms\n",
    "import numpy as np\n",
    "\n",
    "set_seed(123456)"
   ]
  },
  {
   "cell_type": "code",
   "execution_count": 2,
   "id": "c15a609a",
   "metadata": {},
   "outputs": [],
   "source": [
    "set_context(mode=ms.GRAPH_MODE, device_target=\"GPU\")"
   ]
  },
  {
   "cell_type": "code",
   "execution_count": 3,
   "id": "607e9dc0",
   "metadata": {},
   "outputs": [
    {
     "data": {
      "text/plain": [
       "Network<\n",
       "  (fcout): Dense<input_channels=1, output_channels=1, has_bias=True>\n",
       "  >"
      ]
     },
     "execution_count": 3,
     "metadata": {},
     "output_type": "execute_result"
    }
   ],
   "source": [
    "from mindspore.common.initializer import Normal\n",
    "class Network(nn.Cell):\n",
    "    def __init__(self):\n",
    "        super().__init__()\n",
    "        # self.fc1 = nn.Dense(1, 20, Normal())\n",
    "        # self.fc2 = nn.Dense(20, 20, Normal())\n",
    "        # self.fc3 = nn.Dense(20, 20, Normal())\n",
    "        self.fcout = nn.Dense(1, 1, weight_init=Normal(0.02), bias_init=Normal(0.02))\n",
    "        # self.act = ops.Tanh()\n",
    "\n",
    "    def construct(self, x):\n",
    "        # x = self.act(self.fc1(x))\n",
    "        # x = self.act(self.fc2(x))\n",
    "        # x = self.act(self.fc3(x))\n",
    "        x = self.fcout(x)\n",
    "\n",
    "        return x\n",
    "\n",
    "model = Network()\n",
    "model"
   ]
  },
  {
   "cell_type": "code",
   "execution_count": 4,
   "id": "0ac80778",
   "metadata": {},
   "outputs": [
    {
     "name": "stdout",
     "output_type": "stream",
     "text": [
      "<mindspore.dataset.engine.datasets_user_defined.GeneratorDataset object at 0x7f143580e790>\n"
     ]
    }
   ],
   "source": [
    "class MyIterable:\n",
    "    def __init__(self):\n",
    "        samples = 2**15\n",
    "        self._index = 0\n",
    "        self._data = np.random.uniform(size=(samples, 1)).astype(np.float32)\n",
    "        self._label = self._data\n",
    "        \n",
    "        \n",
    "        \n",
    "    def __next__(self):\n",
    "        if self._index >= len(self._data):\n",
    "            raise StopIteration\n",
    "        else:\n",
    "            item = (self._data[self._index], self._label[self._index])\n",
    "            self._index += 1\n",
    "            return item\n",
    "        \n",
    "    def __iter__(self):\n",
    "        self._index = 0\n",
    "        return self\n",
    "    \n",
    "    def __len__(self):\n",
    "        return len(self._data)\n",
    "    \n",
    "dataset = ms.dataset.GeneratorDataset(source=MyIterable(), column_names=[\"data\", \"label\"])\n",
    "print(dataset)"
   ]
  },
  {
   "cell_type": "code",
   "execution_count": 5,
   "id": "7e647021",
   "metadata": {},
   "outputs": [
    {
     "data": {
      "image/png": "[encoded data removed]",
      "text/plain": [
       "<Figure size 640x480 with 1 Axes>"
      ]
     },
     "metadata": {},
     "output_type": "display_data"
    }
   ],
   "source": [
    "from matplotlib import pyplot as plt\n",
    "test_data = np.random.uniform(size=(2**17, 1)).astype(np.float32)\n",
    "test_label = test_data\n",
    "plt.scatter(test_data, test_label, s=1)\n",
    "plt.show()"
   ]
  },
  {
   "cell_type": "code",
   "execution_count": 6,
   "id": "cd6685d7",
   "metadata": {},
   "outputs": [],
   "source": [
    "optimizer = nn.Adam(model.trainable_params(), learning_rate=5e-3)\n",
    "loss_fn = nn.MSELoss()"
   ]
  },
  {
   "cell_type": "code",
   "execution_count": 7,
   "id": "786370e1",
   "metadata": {},
   "outputs": [],
   "source": [
    "dataset = dataset.batch(batch_size=2**5)"
   ]
  },
  {
   "cell_type": "code",
   "execution_count": 8,
   "id": "4072172b",
   "metadata": {},
   "outputs": [],
   "source": [
    "def train_loop(model, dataset, loss_fn, optimizer):\n",
    "    def forwad_fn(data, label):\n",
    "        logits = model(data)\n",
    "        loss = loss_fn(logits, label)\n",
    "        return loss, logits\n",
    "    \n",
    "    grad_fn = ops.value_and_grad(forwad_fn, None, optimizer.parameters, has_aux=True)\n",
    "    \n",
    "    def train_step(data, label):\n",
    "        (loss, _), grads = grad_fn(data, label)\n",
    "        loss = ops.depend(loss, optimizer(grads))\n",
    "        return loss\n",
    "    \n",
    "    size = dataset.get_dataset_size()\n",
    "    print(size)\n",
    "    model.set_train()\n",
    "    for batch, (data, label) in enumerate(dataset.create_tuple_iterator()):\n",
    "        # print(data.shape, \"  \", label.shape)\n",
    "        loss = train_step(data, label)\n",
    "\n",
    "        if batch % 100 == 0:\n",
    "            loss, current = loss.asnumpy(), batch\n",
    "            print(f\"loss: {loss:>7f}  [{current:>3d}/{size:>3d}]\")\n",
    "        "
   ]
  },
  {
   "cell_type": "code",
   "execution_count": 9,
   "id": "113b153f",
   "metadata": {},
   "outputs": [],
   "source": [
    "def test_loop(model, dataset, loss_fn):\n",
    "    num_batches = dataset.get_dataset_size()\n",
    "    model.set_train(False)\n",
    "    total, test_loss, correct = 0, 0, 0\n",
    "    for data, label in dataset.create_tuple_iterator():\n",
    "        pred = model(data)\n",
    "        total += len(data)\n",
    "        test_loss += loss_fn(pred, label).asnumpy()\n",
    "        correct += (ops.isclose(pred, label, rtol=1e-3, atol=1e-8)).asnumpy().sum()\n",
    "    test_loss /= num_batches\n",
    "    correct /= total\n",
    "    print(f\"Test: \\n Accuracy: {(100*correct):>0.1f}%, Avg loss: {test_loss:>8f} \\n\")"
   ]
  },
  {
   "cell_type": "code",
   "execution_count": 10,
   "id": "9d92524b",
   "metadata": {},
   "outputs": [
    {
     "name": "stdout",
     "output_type": "stream",
     "text": [
      "epoch:  1\n",
      "1024\n",
      "loss:  0.308074  [  0/1024]\n",
      "loss:  0.031520  [100/1024]\n",
      "loss:  0.023103  [200/1024]\n",
      "loss:  0.014872  [300/1024]\n",
      "loss:  0.008060  [400/1024]\n",
      "loss:  0.002364  [500/1024]\n",
      "loss:  0.001145  [600/1024]\n",
      "loss:  0.000467  [700/1024]\n",
      "loss:  0.000122  [800/1024]\n",
      "loss:  0.000052  [900/1024]\n",
      "loss:  0.000016  [1000/1024]\n",
      "Train: \n",
      " time cost: 2.358206s\n",
      "\n",
      "Test: \n",
      " Accuracy: 11.3%, Avg loss: 0.000008 \n",
      "\n",
      "====================================================================================================\n",
      "epoch:  2\n",
      "1024\n",
      "loss:  0.000008  [  0/1024]\n",
      "loss:  0.000002  [100/1024]\n",
      "loss:  0.000000  [200/1024]\n",
      "loss:  0.000000  [300/1024]\n",
      "loss:  0.000000  [400/1024]\n",
      "loss:  0.000000  [500/1024]\n",
      "loss:  0.000000  [600/1024]\n",
      "loss:  0.000000  [700/1024]\n",
      "loss:  0.000000  [800/1024]\n",
      "loss:  0.000000  [900/1024]\n",
      "loss:  0.000000  [1000/1024]\n",
      "Train: \n",
      " time cost: 0.594238s\n",
      "\n",
      "Test: \n",
      " Accuracy: 99.9%, Avg loss: 0.000000 \n",
      "\n",
      "====================================================================================================\n",
      "epoch:  3\n",
      "1024\n",
      "loss:  0.000000  [  0/1024]\n",
      "loss:  0.000000  [100/1024]\n",
      "loss:  0.000000  [200/1024]\n",
      "loss:  0.000000  [300/1024]\n",
      "loss:  0.000000  [400/1024]\n",
      "loss:  0.000000  [500/1024]\n",
      "loss:  0.000000  [600/1024]\n",
      "loss:  0.000000  [700/1024]\n",
      "loss:  0.000000  [800/1024]\n",
      "loss:  0.000000  [900/1024]\n",
      "loss:  0.000000  [1000/1024]\n",
      "Train: \n",
      " time cost: 0.581065s\n",
      "\n",
      "Test: \n",
      " Accuracy: 100.0%, Avg loss: 0.000000 \n",
      "\n",
      "====================================================================================================\n"
     ]
    }
   ],
   "source": [
    "import time\n",
    "for epoch in range(3):\n",
    "    print(\"epoch: \", epoch + 1)\n",
    "    time_beg = time.time()\n",
    "    train_loop(model, dataset, loss_fn, optimizer)\n",
    "    time_cost = time.time()-time_beg\n",
    "    print(f\"Train: \\n time cost: {time_cost:>4f}s\\n\" )\n",
    "    test_loop(model, dataset, loss_fn)\n",
    "    print(\"=\"*100)"
   ]
  }
 ],
 "metadata": {
  "kernelspec": {
   "display_name": "Python 3.9.0 ('py39')",
   "language": "python",
   "name": "python3"
  },
  "language_info": {
   "codemirror_mode": {
    "name": "ipython",
    "version": 3
   },
   "file_extension": ".py",
   "mimetype": "text/x-python",
   "name": "python",
   "nbconvert_exporter": "python",
   "pygments_lexer": "ipython3",
   "version": "3.9.0"
  },
  "vscode": {
   "interpreter": {
    "hash": "19a1e2f303cb66640e52ebda899bc504370ee2bd966216cecaa911ed63d54065"
   }
  }
 },
 "nbformat": 4,
 "nbformat_minor": 5
}
